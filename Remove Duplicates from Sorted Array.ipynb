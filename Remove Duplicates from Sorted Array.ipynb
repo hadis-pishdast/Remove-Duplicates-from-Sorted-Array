{
 "cells": [
  {
   "cell_type": "code",
   "execution_count": 2,
   "metadata": {},
   "outputs": [],
   "source": [
    "class Solution:\n",
    "    def removeDuplicates(self, nums):\n",
    "        i = 1 # becuase we need to compare next item to current item\n",
    "        while i < len(nums):\n",
    "            if nums[i] == nums[i-1]:\n",
    "                del nums[i]\n",
    "                i -= 1\n",
    "            i += 1\n",
    "                \n",
    "        return len(nums)        "
   ]
  },
  {
   "cell_type": "code",
   "execution_count": null,
   "metadata": {},
   "outputs": [],
   "source": []
  }
 ],
 "metadata": {
  "kernelspec": {
   "display_name": "Python 3",
   "language": "python",
   "name": "python3"
  },
  "language_info": {
   "codemirror_mode": {
    "name": "ipython",
    "version": 3
   },
   "file_extension": ".py",
   "mimetype": "text/x-python",
   "name": "python",
   "nbconvert_exporter": "python",
   "pygments_lexer": "ipython3",
   "version": "3.7.0"
  }
 },
 "nbformat": 4,
 "nbformat_minor": 4
}
